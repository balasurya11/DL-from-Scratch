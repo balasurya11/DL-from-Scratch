{
 "cells": [
  {
   "cell_type": "markdown",
   "id": "0aa18fe6-8543-45c3-b309-8055fc3722b8",
   "metadata": {},
   "source": [
    "_This notebook was authored by Balasurya on 3 June 2022_\n",
    "\n",
    "_Reference : Deep Learning from Scratch by Seth Weidman (O’Reilly). Copyright 2019 Seth Weidman, 978-1-492-04141-2._\n",
    "https://github.com/SethHWeidman/DLFS_code"
   ]
  },
  {
   "cell_type": "code",
   "execution_count": 70,
   "id": "2ba69ed9-d886-49b6-8528-dcb0e3ae766d",
   "metadata": {},
   "outputs": [],
   "source": [
    "import numpy as np\n",
    "from numpy import ndarray\n",
    "\n",
    "import matplotlib.pyplot as plt\n",
    "import seaborn as sns\n",
    "\n",
    "from typing import Callable, List"
   ]
  },
  {
   "cell_type": "markdown",
   "id": "4707ef23-99db-4086-a7b7-4eee318a9ef9",
   "metadata": {
    "tags": []
   },
   "source": [
    "# Derivatives"
   ]
  },
  {
   "cell_type": "markdown",
   "id": "8e2eda3a-85c8-4c40-a1b7-272bc84f5981",
   "metadata": {
    "tags": []
   },
   "source": [
    "### Using the formula\n",
    "![differentiation](images/differentiation_formula.png)"
   ]
  },
  {
   "cell_type": "markdown",
   "id": "3c02f24c-8d43-459d-b31e-79affacab44f",
   "metadata": {
    "tags": []
   },
   "source": [
    "## Simple functions and their derivatives"
   ]
  },
  {
   "cell_type": "code",
   "execution_count": 71,
   "id": "7a23cdd7-ff79-4465-8865-6c550a9d8ba8",
   "metadata": {},
   "outputs": [],
   "source": [
    "def squaring(x: ndarray) -> ndarray:\n",
    "    return x**2"
   ]
  },
  {
   "cell_type": "code",
   "execution_count": 72,
   "id": "f3f17a2c-9c1a-4e17-92c6-cdd22fabf0cf",
   "metadata": {},
   "outputs": [],
   "source": [
    "def relu(x: ndarray) -> ndarray:\n",
    "    return np.clip(x, 0, None)"
   ]
  },
  {
   "cell_type": "code",
   "execution_count": 73,
   "id": "d6b3339a-e01b-404d-994e-fa217db69beb",
   "metadata": {},
   "outputs": [],
   "source": [
    "def compute_derivatives(func: Callable[[ndarray], ndarray],\n",
    "                        x: ndarray,\n",
    "                        delta: float = 0.001) -> ndarray:\n",
    "    return (func(x+delta) - func(x-delta)) / (2*delta)"
   ]
  },
  {
   "cell_type": "code",
   "execution_count": 74,
   "id": "2ce9d77b-818a-455f-b5d8-09ca66a55fa1",
   "metadata": {},
   "outputs": [
    {
     "data": {
      "text/plain": [
       "array([-5., -4., -3., -2., -1.,  0.,  1.,  2.,  3.,  4.,  5.])"
      ]
     },
     "execution_count": 74,
     "metadata": {},
     "output_type": "execute_result"
    }
   ],
   "source": [
    "x = np.linspace(-5, 5, 11)\n",
    "x"
   ]
  },
  {
   "cell_type": "code",
   "execution_count": 75,
   "id": "a9dc83e6-6913-40d4-a576-a5a37807f9e4",
   "metadata": {},
   "outputs": [
    {
     "name": "stdout",
     "output_type": "stream",
     "text": [
      "Squaring curve\n"
     ]
    },
    {
     "data": {
      "image/png": "[encoded data removed]",
      "text/plain": [
       "<Figure size 432x288 with 1 Axes>"
      ]
     },
     "metadata": {
      "needs_background": "light"
     },
     "output_type": "display_data"
    }
   ],
   "source": [
    "print(\"Squaring curve\")\n",
    "plt.plot(x, squaring(x))\n",
    "plt.show()"
   ]
  },
  {
   "cell_type": "code",
   "execution_count": 76,
   "id": "1feb686e-77e2-4224-8382-dea254e84e22",
   "metadata": {},
   "outputs": [
    {
     "name": "stdout",
     "output_type": "stream",
     "text": [
      "Points and derivatives of square function\n",
      "[-5. -4. -3. -2. -1.  0.  1.  2.  3.  4.  5.]\n",
      "[-10.  -8.  -6.  -4.  -2.   0.   2.   4.   6.   8.  10.]\n"
     ]
    }
   ],
   "source": [
    "print(\"Points and derivatives of square function\")\n",
    "print(x)\n",
    "print(compute_derivatives(squaring, x)) # Square function"
   ]
  },
  {
   "cell_type": "code",
   "execution_count": 77,
   "id": "dce7db8e-9eca-43a3-99f8-3da7cd556676",
   "metadata": {},
   "outputs": [
    {
     "name": "stdout",
     "output_type": "stream",
     "text": [
      "Relu curve\n"
     ]
    },
    {
     "data": {
      "image/png": "[encoded data removed]",
      "text/plain": [
       "<Figure size 432x288 with 1 Axes>"
      ]
     },
     "metadata": {
      "needs_background": "light"
     },
     "output_type": "display_data"
    }
   ],
   "source": [
    "print(\"Relu curve\")\n",
    "plt.plot(x, relu(x))\n",
    "plt.show()"
   ]
  },
  {
   "cell_type": "code",
   "execution_count": 78,
   "id": "7301031b-9904-486a-81a3-8308fecb7c43",
   "metadata": {},
   "outputs": [
    {
     "name": "stdout",
     "output_type": "stream",
     "text": [
      "Points and derivatives of relu function\n",
      "[-5. -4. -3. -2. -1.  0.  1.  2.  3.  4.  5.]\n",
      "[0.  0.  0.  0.  0.  0.5 1.  1.  1.  1.  1. ]\n"
     ]
    }
   ],
   "source": [
    "print(\"Points and derivatives of relu function\")\n",
    "print(x)\n",
    "print(compute_derivatives(relu, x)) # Relu function"
   ]
  },
  {
   "cell_type": "markdown",
   "id": "8a1cba16-c960-4c90-84c9-14b12ef70b29",
   "metadata": {
    "tags": []
   },
   "source": [
    "## Chain rule"
   ]
  },
  {
   "cell_type": "markdown",
   "id": "e95ed2d1-4525-41eb-87c3-c8f2f7f33e3f",
   "metadata": {
    "tags": []
   },
   "source": [
    "### Defining Nested Functions in Python"
   ]
  },
  {
   "cell_type": "code",
   "execution_count": 79,
   "id": "98431484-7a8c-4e66-9137-2114ee99314e",
   "metadata": {},
   "outputs": [],
   "source": [
    "Array_function = Callable[[ndarray], ndarray]"
   ]
  },
  {
   "cell_type": "code",
   "execution_count": 80,
   "id": "3f1fc4d9-9356-42de-bbef-88768bfda9e5",
   "metadata": {},
   "outputs": [],
   "source": [
    "Chain = List[Array_function]"
   ]
  },
  {
   "cell_type": "code",
   "execution_count": 81,
   "id": "e92dfbad-7228-4c02-aea2-b7fa663647ed",
   "metadata": {},
   "outputs": [],
   "source": [
    "def chain_length_2(chain: Chain, \n",
    "                  x: ndarray) -> ndarray:\n",
    "    assert len(chain) == 2\n",
    "    f1 = chain[0]\n",
    "    f2 = chain[1]\n",
    "    x = f1(f2(x))\n",
    "    return x"
   ]
  },
  {
   "cell_type": "code",
   "execution_count": 82,
   "id": "833417b0-11e1-4dd1-a31c-847b4c4db709",
   "metadata": {},
   "outputs": [],
   "source": [
    "# Define functions\n",
    "\n",
    "def square(x: ndarray) -> ndarray:\n",
    "    return x**2\n",
    "\n",
    "def sigmoid(x: ndarray) -> ndarray:\n",
    "    return 1 / (1+np.exp(-x))"
   ]
  },
  {
   "cell_type": "code",
   "execution_count": 83,
   "id": "fe382dc0-9d1f-4a10-8172-96d3e0143df3",
   "metadata": {},
   "outputs": [],
   "source": [
    "function_chain = [square, sigmoid]"
   ]
  },
  {
   "cell_type": "code",
   "execution_count": 84,
   "id": "68604834-0447-4838-af81-8416d2297069",
   "metadata": {},
   "outputs": [
    {
     "data": {
      "text/plain": [
       "array([4.47942535e-05, 3.23503749e-04, 2.24921345e-03, 1.42093366e-02,\n",
       "       7.23294881e-02, 2.50000000e-01, 5.34446645e-01, 7.75803493e-01,\n",
       "       9.07397467e-01, 9.64351084e-01, 9.86659092e-01])"
      ]
     },
     "execution_count": 84,
     "metadata": {},
     "output_type": "execute_result"
    }
   ],
   "source": [
    "chain_length_2(function_chain, x)"
   ]
  },
  {
   "cell_type": "markdown",
   "id": "139a6f48-22e3-4bab-b077-1bf7deef234b",
   "metadata": {
    "tags": []
   },
   "source": [
    "### Chain rule for computing derivatives of nested functions"
   ]
  },
  {
   "cell_type": "markdown",
   "id": "9fbc42e8-c473-411c-b3f0-1bc0cb179372",
   "metadata": {},
   "source": [
    "![chain_rule](images/chain_rule.png)"
   ]
  },
  {
   "cell_type": "code",
   "execution_count": 192,
   "id": "ed358cfa-f387-47e3-8a5f-fc9beb107ebe",
   "metadata": {},
   "outputs": [],
   "source": [
    "x = np.arange(-3, 3, 0.01)\n",
    "function_chain = [sigmoid, square]"
   ]
  },
  {
   "cell_type": "markdown",
   "id": "8ff2aae2-a30c-4c4f-a6bf-406ca5a28579",
   "metadata": {},
   "source": [
    " #### Notations\n",
    " y &nbsp;&nbsp;&nbsp;&nbsp;&nbsp;&nbsp;&nbsp;= f1(f2(x))<br>\n",
    " dy/dx = f1'(f2(x)) * f2'(x)<br>\n",
    " \n",
    " Considering <br>1. __f1'(f2(x)) = df1__,  <br>2. __f2'(x) = df2__"
   ]
  },
  {
   "cell_type": "code",
   "execution_count": 193,
   "id": "4281f3d8-1fab-4885-9647-20fb9eafa3c1",
   "metadata": {},
   "outputs": [],
   "source": [
    "def chain_rule_2(chain: Chain, \n",
    "                x: ndarray) -> ndarray:\n",
    "    f1 = chain[0]\n",
    "    f2 = chain[1]\n",
    "    \n",
    "    df2 = compute_derivatives(f2, x)\n",
    "    h = f2(x)\n",
    "    df1 = compute_derivatives(f1, h)\n",
    "    \n",
    "    return df1*df2"
   ]
  },
  {
   "cell_type": "code",
   "execution_count": 194,
   "id": "7ed04852-b604-47c1-b7c4-a41c3235aa87",
   "metadata": {},
   "outputs": [],
   "source": [
    "derivs = chain_rule_2(function_chain, x)"
   ]
  },
  {
   "cell_type": "code",
   "execution_count": 195,
   "id": "23d80550-97b9-4fb5-b355-d4ab780ce177",
   "metadata": {},
   "outputs": [
    {
     "data": {
      "image/png": "[encoded data removed]",
      "text/plain": [
       "<Figure size 432x288 with 1 Axes>"
      ]
     },
     "metadata": {
      "needs_background": "light"
     },
     "output_type": "display_data"
    }
   ],
   "source": [
    "sns.lineplot(x=x, y=chain_length_2(function_chain, x), )\n",
    "sns.lineplot(x=x, y=derivs)\n",
    "plt.title(\"Function and derivative for f(x) = sigmoid(square(x))\")\n",
    "plt.legend(labels=['f(x)', 'df/dx'])\n",
    "plt.show()\n"
   ]
  },
  {
   "cell_type": "code",
   "execution_count": 196,
   "id": "2b3862bc-57fd-48ce-8b61-06f94fb78db1",
   "metadata": {},
   "outputs": [],
   "source": [
    "function_chain = [square, sigmoid]\n",
    "derivs = chain_rule_2(function_chain, x)"
   ]
  },
  {
   "cell_type": "code",
   "execution_count": 197,
   "id": "16278ed1-a487-4177-9118-ec10d6ef4c97",
   "metadata": {},
   "outputs": [
    {
     "data": {
      "image/png": "[encoded data removed]",
      "text/plain": [
       "<Figure size 432x288 with 1 Axes>"
      ]
     },
     "metadata": {
      "needs_background": "light"
     },
     "output_type": "display_data"
    }
   ],
   "source": [
    "sns.lineplot(x=x, y=chain_length_2(function_chain, x), )\n",
    "sns.lineplot(x=x, y=derivs)\n",
    "plt.title(\"Function and derivative for f(x) = square(sigmoid(x))\")\n",
    "plt.legend(labels=['f(x)', 'df/dx'])\n",
    "plt.show()\n"
   ]
  },
  {
   "cell_type": "markdown",
   "id": "6596c186-33e1-49b1-b1e9-dff75d7de514",
   "metadata": {},
   "source": [
    "### More Complex Example\n",
    "y = f1(f2(f3(x)))"
   ]
  },
  {
   "cell_type": "markdown",
   "id": "748493a4-0e59-4c27-b901-ca1cc9cc322d",
   "metadata": {},
   "source": [
    "y' = f1'(f2(f3(x))) * f2'(f3(x)) * f3'(x)"
   ]
  },
  {
   "cell_type": "code",
   "execution_count": 198,
   "id": "77d34e1e-ba7d-4f6a-aca9-55aca5803bf2",
   "metadata": {},
   "outputs": [],
   "source": [
    "def chain_length_3(chain: Chain, \n",
    "                  x: ndarray) -> ndarray:\n",
    "    assert len(chain) == 3\n",
    "    f1 = chain[0]\n",
    "    f2 = chain[1]\n",
    "    f3 = chain[2]\n",
    "    x = f1(f2(f3(x)))\n",
    "    return x\n",
    "\n",
    "def leaky_relu(x: ndarray, \n",
    "              alpha: np.int8=0.2) -> ndarray:\n",
    "    return np.maximum(alpha*x, x)"
   ]
  },
  {
   "cell_type": "code",
   "execution_count": 218,
   "id": "9dfe12a2-886c-44cf-841b-dd8e52db77d4",
   "metadata": {},
   "outputs": [],
   "source": [
    "x = np.linspace(-3, 3, 601)\n",
    "# function_chain = [f1, f2, f3]\n",
    "# out = f1(f2(f3(x)))\n",
    "function_chain = [square, sigmoid, leaky_relu]"
   ]
  },
  {
   "cell_type": "code",
   "execution_count": 219,
   "id": "4a692a25-ccf5-4fad-a250-9097d26881be",
   "metadata": {},
   "outputs": [],
   "source": [
    "def chain_rule_3(chain: Chain, \n",
    "                x: ndarray) -> ndarray:\n",
    "    f1 = chain[0]\n",
    "    f2 = chain[1]\n",
    "    f3 = chain[2]\n",
    "    \n",
    "    f3_of_x = f3(x)\n",
    "    f2_of_x = f2(f3_of_x)\n",
    "    \n",
    "    df3 = compute_derivatives(f3, x)\n",
    "    df2 = compute_derivatives(f2, f3_of_x)\n",
    "    df1 = compute_derivatives(f1, f2_of_x)\n",
    "    \n",
    "    return df1*df2*df3"
   ]
  },
  {
   "cell_type": "code",
   "execution_count": 220,
   "id": "e0f6a55f-2189-4385-ba75-c6173dfeb5d7",
   "metadata": {},
   "outputs": [],
   "source": [
    "derivs = chain_rule_3(function_chain, x)"
   ]
  },
  {
   "cell_type": "code",
   "execution_count": 221,
   "id": "6596e697-9331-4c13-a8e2-1c14addadd30",
   "metadata": {},
   "outputs": [
    {
     "data": {
      "image/png": "[encoded data removed]",
      "text/plain": [
       "<Figure size 432x288 with 1 Axes>"
      ]
     },
     "metadata": {
      "needs_background": "light"
     },
     "output_type": "display_data"
    }
   ],
   "source": [
    "sns.lineplot(x=x, y=chain_length_3(function_chain, x))\n",
    "sns.lineplot(x=x, y=derivs)\n",
    "plt.title(\"Function and derivative for f(x) = sigmoid(square(leaky_relu(x)))\")\n",
    "plt.legend(labels=['f(x)', 'df/dx'])\n",
    "plt.show()\n"
   ]
  },
  {
   "cell_type": "code",
   "execution_count": 222,
   "id": "ee58b31c-0573-45d2-908f-5f526cce1119",
   "metadata": {},
   "outputs": [
    {
     "data": {
      "image/png": "[encoded data removed]",
      "text/plain": [
       "<Figure size 432x288 with 1 Axes>"
      ]
     },
     "metadata": {
      "needs_background": "light"
     },
     "output_type": "display_data"
    }
   ],
   "source": [
    "function_chain = [sigmoid, square, leaky_relu]\n",
    "derivs = chain_rule_3(function_chain, x)\n",
    "\n",
    "sns.lineplot(x=x, y=chain_length_3(function_chain, x))\n",
    "sns.lineplot(x=x, y=derivs)\n",
    "plt.title(\"Function and derivative for f(x) = square(sigmoid(leaky_relu(x)))\")\n",
    "plt.legend(labels=['f(x)', 'df/dx'])\n",
    "plt.show()\n"
   ]
  },
  {
   "cell_type": "code",
   "execution_count": null,
   "id": "d766d3eb-5ff7-4aa5-8659-5db72981f211",
   "metadata": {},
   "outputs": [],
   "source": []
  }
 ],
 "metadata": {
  "kernelspec": {
   "display_name": "Python 3 (ipykernel)",
   "language": "python",
   "name": "python3"
  },
  "language_info": {
   "codemirror_mode": {
    "name": "ipython",
    "version": 3
   },
   "file_extension": ".py",
   "mimetype": "text/x-python",
   "name": "python",
   "nbconvert_exporter": "python",
   "pygments_lexer": "ipython3",
   "version": "3.9.5"
  }
 },
 "nbformat": 4,
 "nbformat_minor": 5
}
